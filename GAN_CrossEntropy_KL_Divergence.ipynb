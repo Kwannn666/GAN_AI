{
  "cells": [
    {
      "cell_type": "markdown",
      "metadata": {
        "id": "view-in-github",
        "colab_type": "text"
      },
      "source": [
        "<a href=\"https://colab.research.google.com/github/Kwannn666/GAN_AI/blob/main/GAN_CrossEntropy_KL_Divergence.ipynb\" target=\"_parent\"><img src=\"https://colab.research.google.com/assets/colab-badge.svg\" alt=\"Open In Colab\"/></a>"
      ]
    },
    {
      "cell_type": "markdown",
      "id": "367cc303",
      "metadata": {
        "id": "367cc303"
      },
      "source": [
        "# 主題二：研究 GAN 背後原理 - Cross Entropy & KL Divergence\n",
        "\n",
        "## 1. Cross Entropy 和 KL Divergence 基本概念\n",
        "\n",
        "- **交叉熵 (Cross Entropy)**：用於衡量兩個機率分佈之間的相似度，特別是在分類問題中常見。\n",
        "- **KL 散度 (Kullback-Leibler Divergence)**：用來衡量一個分佈相對於另一個分佈的資訊損失。\n",
        "- **GAN 應用**：GAN 的損失函數通常基於交叉熵來訓練判別器。\n",
        "\n",
        "## 2. 數學定義\n",
        "\n",
        "### 交叉熵 (Cross Entropy)\n",
        "給定真實分佈$ ( P ) $和模型分佈$ ( Q )$，交叉熵定義如下：\n",
        "\n",
        "$ [ H(P, Q) = - \\sum_{x} P(x) \\log Q(x) ] $\n",
        "\n",
        "在機器學習中，對於二元分類問題：\n",
        "\n",
        "$[ H(P, Q) = - (y \\log \\hat{y} + (1 - y) \\log (1 - \\hat{y})) ]$\n",
        "\n",
        "### KL 散度 (Kullback-Leibler Divergence)\n",
        "KL 散度用於測量兩個機率分佈之間的相對熵：\n",
        "\n",
        "$[ D_{KL}(P || Q) = \\sum_{x} P(x) \\log \\frac{P(x)}{Q(x)} ]$\n",
        "\n",
        "KL 散度越大，表示兩個分佈差異越大。\n",
        "\n",
        "---\n"
      ]
    },
    {
      "cell_type": "code",
      "execution_count": null,
      "id": "44387cb3",
      "metadata": {
        "id": "44387cb3",
        "outputId": "e863cd15-9c68-40da-ae84-d87f2cd31881",
        "colab": {
          "base_uri": "https://localhost:8080/",
          "height": 447
        }
      },
      "outputs": [
        {
          "output_type": "stream",
          "name": "stdout",
          "text": [
            "Cross Entropy: 0.9891\n",
            "KL Divergence: 0.0458\n"
          ]
        },
        {
          "output_type": "display_data",
          "data": {
            "text/plain": [
              "<Figure size 600x400 with 1 Axes>"
            ],
            "image/png": "[encoded data removed]"
          },
          "metadata": {}
        }
      ],
      "source": [
        "import numpy as np\n",
        "import matplotlib.pyplot as plt\n",
        "import scipy.stats\n",
        "\n",
        "# 定義真實分佈 P 和模型分佈 Q\n",
        "P = np.array([0.1, 0.4, 0.5])  # 真實分佈\n",
        "Q = np.array([0.2, 0.3, 0.5])  # 預測分佈\n",
        "\n",
        "# 計算 Cross Entropy\n",
        "cross_entropy = -np.sum(P * np.log(Q))\n",
        "\n",
        "# 計算 KL Divergence\n",
        "kl_divergence = np.sum(P * np.log(P / Q))\n",
        "\n",
        "print(f\"Cross Entropy: {cross_entropy:.4f}\")\n",
        "print(f\"KL Divergence: {kl_divergence:.4f}\")\n",
        "\n",
        "# 可視化 P 和 Q 的分佈\n",
        "plt.figure(figsize=(6,4))\n",
        "plt.bar(range(len(P)), P, alpha=0.6, label=\"True Distribution P\")\n",
        "plt.bar(range(len(Q)), Q, alpha=0.6, label=\"Predicted Distribution Q\")\n",
        "plt.legend()\n",
        "plt.xlabel(\"Category\")\n",
        "plt.ylabel(\"Probability\")\n",
        "plt.title(\"Comparison of P and Q distributions\")\n",
        "plt.show()\n"
      ]
    },
    {
      "cell_type": "markdown",
      "id": "563f6767",
      "metadata": {
        "id": "563f6767"
      },
      "source": [
        "## 3. 交叉熵與 KL 散度的比較\n",
        "\n",
        "- **交叉熵** 衡量真實分佈與預測分佈的相似程度。\n",
        "- **KL 散度** 測量從 P 變為 Q 的資訊損失，若 Q = P，則 KL 散度為 0。\n",
        "- 在機器學習應用中，交叉熵更常用於分類問題，而 KL 散度則常見於機率分佈學習。\n",
        "\n",
        "## 4. 在 GAN 中的應用\n",
        "\n",
        "在 GAN (生成對抗網路) 中：\n",
        "- **生成器 (Generator)** 嘗試讓 \\( G(z) \\) 生成的樣本接近真實樣本，使得判別器無法區分。\n",
        "- **判別器 (Discriminator)** 使用 **交叉熵損失** 來判斷輸入是真實數據或生成數據。\n",
        "\n",
        "GAN 的目標函數：\n",
        "\n",
        "$[ \\min_G \\max_D \\mathbb{E}_{x \\sim p_{data}}[\\log D(x)] + \\mathbb{E}_{z \\sim p_{z}}[\\log(1 - D(G(z)))] ]$\n",
        "\n",
        "---\n"
      ]
    },
    {
      "cell_type": "code",
      "execution_count": null,
      "id": "09c058e8",
      "metadata": {
        "id": "09c058e8",
        "outputId": "b030c943-5d1c-48c2-c1ca-5c9b510b94a7",
        "colab": {
          "base_uri": "https://localhost:8080/"
        }
      },
      "outputs": [
        {
          "output_type": "stream",
          "name": "stdout",
          "text": [
            "判別器的交叉熵損失: 0.5798\n"
          ]
        }
      ],
      "source": [
        "import torch\n",
        "import torch.nn.functional as F\n",
        "\n",
        "# 假設真實標籤 y = 1 (真實數據), 預測 D(x) = 0.8\n",
        "y_real = torch.tensor([1.0])\n",
        "y_pred_real = torch.tensor([0.8])\n",
        "loss_real = F.binary_cross_entropy(y_pred_real, y_real)\n",
        "\n",
        "# 假設生成數據標籤 y = 0, 預測 D(G(z)) = 0.3\n",
        "y_fake = torch.tensor([0.0])\n",
        "y_pred_fake = torch.tensor([0.3])\n",
        "loss_fake = F.binary_cross_entropy(y_pred_fake, y_fake)\n",
        "\n",
        "# 判別器的總損失\n",
        "D_loss = loss_real + loss_fake\n",
        "\n",
        "print(f\"判別器的交叉熵損失: {D_loss.item():.4f}\")\n"
      ]
    },
    {
      "cell_type": "markdown",
      "id": "cb11ba4f",
      "metadata": {
        "id": "cb11ba4f"
      },
      "source": [
        "## 5. 結論與實驗結果\n",
        "\n",
        "- **交叉熵** 和 **KL 散度** 皆用於機率分佈的衡量，GAN 訓練時常使用交叉熵作為損失函數。\n",
        "- **KL 散度** 主要用於機率密度估計，衡量兩個分佈的差異。\n",
        "- **GAN 的判別器** 透過最小化交叉熵來學習如何區分真實數據與生成數據。\n"
      ]
    }
  ],
  "metadata": {
    "colab": {
      "provenance": [],
      "include_colab_link": true
    },
    "language_info": {
      "name": "python"
    },
    "kernelspec": {
      "name": "python3",
      "display_name": "Python 3"
    }
  },
  "nbformat": 4,
  "nbformat_minor": 5
}